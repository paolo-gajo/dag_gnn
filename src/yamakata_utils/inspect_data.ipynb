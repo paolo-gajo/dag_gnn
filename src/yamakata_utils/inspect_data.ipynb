{
 "cells": [
  {
   "cell_type": "code",
   "execution_count": null,
   "metadata": {},
   "outputs": [],
   "source": [
    "import pandas as pd\n",
    "file_path = '/home/pgajo/graphing/quadruples-train.tsv'\n",
    "df = pd.read_csv(file_path, sep='\\t')\n",
    "df"
   ]
  }
 ],
 "metadata": {
  "language_info": {
   "name": "python"
  }
 },
 "nbformat": 4,
 "nbformat_minor": 2
}
